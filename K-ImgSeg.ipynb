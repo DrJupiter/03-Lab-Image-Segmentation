{
 "metadata": {
  "language_info": {
   "codemirror_mode": {
    "name": "ipython",
    "version": 3
   },
   "file_extension": ".py",
   "mimetype": "text/x-python",
   "name": "python",
   "nbconvert_exporter": "python",
   "pygments_lexer": "ipython3",
   "version": "3.8.5-final"
  },
  "orig_nbformat": 2,
  "kernelspec": {
   "name": "Python 3.8.5 64-bit",
   "display_name": "Python 3.8.5 64-bit",
   "metadata": {
    "interpreter": {
     "hash": "31f2aee4e71d21fbe5cf8b01ff0e069b9275f58929596ceb00d14d90e3e16cd6"
    }
   }
  }
 },
 "nbformat": 4,
 "nbformat_minor": 2,
 "cells": [
  {
   "source": [
    "# Using K-means for Image segmentation \n",
    "\n",
    "I suggest that you create your own script to read pictures from a directory\n",
    "and convert them. This will both make the reviewing process faster, but also give you a chance to see the overall picture of how the 50 tests cases do all in all more easily.\n",
    "\n"
   ],
   "cell_type": "markdown",
   "metadata": {}
  },
  {
   "source": [
    "## Importing the libraries we will need"
   ],
   "cell_type": "markdown",
   "metadata": {}
  },
  {
   "cell_type": "code",
   "execution_count": 1,
   "metadata": {},
   "outputs": [],
   "source": [
    "import numpy as np\n",
    "from imageio import imread, imwrite\n",
    "from skimage.transform import rescale\n",
    "from skimage.color import rgb2lab, lab2rgb # Remove if not needed\n",
    "from sklearn.metrics.pairwise import euclidean_distances\n",
    "\n",
    "from datetime import datetime"
   ]
  },
  {
   "cell_type": "code",
   "execution_count": 3,
   "metadata": {},
   "outputs": [],
   "source": [
    "img_name = \"IMG_NAME\"\n",
    "img_extension = \"IMG_EXT\"\n",
    "image_raw = imread(f\"{img_name}.{img_extension}\")\n",
    "image_cilab_raw = rgb2lab(image_raw[:, :, :3])"
   ]
  },
  {
   "source": [
    "## Preproccesing functions"
   ],
   "cell_type": "markdown",
   "metadata": {}
  },
  {
   "cell_type": "code",
   "execution_count": 4,
   "metadata": {},
   "outputs": [],
   "source": [
    "def compare(a, b):\n",
    "    return sum((a-b)**2)\n",
    "\n",
    "def comparision_matrix(M):\n",
    "    width = M.shape[0]\n",
    "    height = M.shape[1]\n",
    "\n",
    "    # result will be a widthxheight matrix,\n",
    "    # where the 4 values in each cells are the results of the compare-function with the cell:\n",
    "    #   [left,right,up,down]\n",
    "    result = np.zeros((width, height, 4))\n",
    "\n",
    "    # Row comparision\n",
    "    for i, j in zip(range(0, width), range(1, width)):\n",
    "        for k in range(0, height):\n",
    "            tmp = compare(M[i, k], M[j, k])\n",
    "            result[i, k, 1] = tmp\n",
    "            result[j, k, 0] = tmp\n",
    "    \n",
    "    # Column comparison\n",
    "    for l in range(0, width):\n",
    "        for m, n in zip(range(0, height), range(1, height)):\n",
    "            tmp = compare(M[l, m], M[l, n])\n",
    "            result[l, m, 3] = tmp\n",
    "            result[l, n, 2] = tmp\n",
    "\n",
    "    return result\n",
    "\n",
    "def compress_matrix(M):\n",
    "    compressed_M = np.zeros((M.shape[0], M.shape[1], 1))\n",
    "    for i in (range(M.shape[0])):\n",
    "        for j in range(M.shape[1]):\n",
    "            compressed_M[i, j] = np.average(M[i, j])\n",
    "\n",
    "    return compressed_M"
   ]
  },
  {
   "source": [
    "## Clustering functions"
   ],
   "cell_type": "markdown",
   "metadata": {}
  },
  {
   "cell_type": "code",
   "execution_count": 5,
   "metadata": {},
   "outputs": [],
   "source": [
    "def initial_centroids(points, k, dim):\n",
    "\n",
    "    if k*dim <= len(points):\n",
    "        print(\"Wait...\")\n",
    "        Mean = points.mean(0)\n",
    "        return np.array([Mean + np.random.randn(dim) for _ in range(k)])\n",
    "\n",
    "    centroids = points.copy()\n",
    "    np.random.shuffle(centroids)\n",
    "    return [centroids[i*dim:dim*(i+1)] for i in range(k)]\n",
    "\n",
    "def closest_centroid(points, centroids):\n",
    "    # returns an array containing the index to the nearest centroid for each point\n",
    "    distances = np.sqrt(((points - centroids[:, np.newaxis])**2).sum(axis=2))\n",
    "    return np.argmin(distances, axis=0)\n",
    "\n",
    "def find_centers(centers, points, assignments):\n",
    "    points = points.flatten()\n",
    "    for i in range(len(centers)):\n",
    "        cluster = points[assignments == i]\n",
    "        if len(cluster) != 0:\n",
    "            centers[i] = cluster.mean(0)\n",
    "    return centers"
   ]
  },
  {
   "source": [
    "## Postprocessing functions"
   ],
   "cell_type": "markdown",
   "metadata": {}
  },
  {
   "cell_type": "code",
   "execution_count": null,
   "metadata": {},
   "outputs": [],
   "source": [
    "# Change values in this for different colors.\n",
    "# The number corresponds to the nth cluster, so changing it will change\n",
    "# that cluster's color\n",
    "def color_picker(number):\n",
    "    if number == 0:\n",
    "        return [255,255,255]\n",
    "    elif number == 1:\n",
    "        return [0,0,0]\n",
    "    elif number == 2:\n",
    "        return [0,0,255]\n",
    "    elif number == 3:\n",
    "        return [255,0,0]\n",
    "    elif number == 4:\n",
    "        return [0,255,0]\n",
    "    elif number == 5:\n",
    "        return [255,255,0]\n",
    "    elif number == 6:\n",
    "        return [50,50,255]\n",
    "    elif number == 7:\n",
    "        return [240,70,24]\n",
    "    elif number == 8:\n",
    "        return [12,129,33]\n",
    "    elif number == 9:\n",
    "        return [68,0,35]\n",
    "\n",
    "def create_image_from_cluster(assignments, M, shape):\n",
    "    assignments = assignments.reshape(shape) \n",
    "    for i in (range(M.shape[0])):\n",
    "        for j in range(M.shape[1]):\n",
    "            M[i,j] = color_picker(assignments[i,j])\n",
    "    return M"
   ]
  },
  {
   "source": [
    "### Running the clustering algorithm"
   ],
   "cell_type": "markdown",
   "metadata": {}
  },
  {
   "cell_type": "code",
   "execution_count": null,
   "metadata": {},
   "outputs": [],
   "source": [
    "\n",
    "k = 3 # Number of clusters: Can be changed\n",
    "dim = 1 # Dimension of clusters: Will require manual tinkering if changed\n",
    "\n",
    "# !! NOTE THAT IN YOUR TESTING k SHOULD BE EQUAL TO 3 AND dim EQUAL TO 1 ¡¡\n",
    "\n",
    "M = comparision_matrix(image_cilab_raw) \n",
    "M = compress_matrix(M)\n",
    "centroids = initial_centroids(M.flatten(), k, dim)\n",
    "\n",
    "while(True):\n",
    "    close = closest_centroid(M.reshape(-1, 1), centroids)\n",
    "    prev_centroids = centroids.copy()\n",
    "    centroids = find_centers(centroids, M, close)\n",
    "    if sum(centroids-prev_centroids) == 0:\n",
    "        break"
   ]
  },
  {
   "source": [
    "### Create visual representation of clusters"
   ],
   "cell_type": "markdown",
   "metadata": {}
  },
  {
   "cell_type": "code",
   "execution_count": null,
   "metadata": {},
   "outputs": [],
   "source": [
    "new_img = create_image_from_cluster(close, image_raw[:,:,:3], (M.shape[0],M.shape[1]))"
   ]
  },
  {
   "source": [
    "## Example of displaying image in editor"
   ],
   "cell_type": "markdown",
   "metadata": {}
  },
  {
   "cell_type": "code",
   "execution_count": null,
   "metadata": {},
   "outputs": [],
   "source": [
    "plt.imshow(new_img)"
   ]
  },
  {
   "source": [
    "## Example of how to save an image"
   ],
   "cell_type": "markdown",
   "metadata": {}
  },
  {
   "cell_type": "code",
   "execution_count": null,
   "metadata": {},
   "outputs": [],
   "source": [
    "dir_path = \"./\" # Make this the full path\n",
    "\n",
    "imwrite(f\"{dir_path}{img_name}-{datetime.now()}.png\", new_img) # We save as png because all we have are the colors in [r, g, b]"
   ]
  }
 ]
}